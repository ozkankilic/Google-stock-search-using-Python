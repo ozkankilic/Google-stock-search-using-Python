{
 "cells": [
  {
   "cell_type": "code",
   "execution_count": 1,
   "metadata": {},
   "outputs": [],
   "source": [
    "from googlesearch import search"
   ]
  },
  {
   "cell_type": "code",
   "execution_count": 2,
   "metadata": {},
   "outputs": [],
   "source": [
    "import requests\n",
    "from lxml.html import fromstring\n",
    "\n",
    "def Link_title(URL):\n",
    "    x = requests.get(URL)\n",
    "    tree = fromstring(x.content)\n",
    "    return tree.findtext('.//title')"
   ]
  },
  {
   "cell_type": "code",
   "execution_count": 3,
   "metadata": {},
   "outputs": [
    {
     "name": "stdout",
     "output_type": "stream",
     "text": [
      "Please provide the company name:hdfc\n"
     ]
    }
   ],
   "source": [
    "company_name = input(\"Please provide the company name:\")"
   ]
  },
  {
   "cell_type": "code",
   "execution_count": 4,
   "metadata": {},
   "outputs": [
    {
     "name": "stdout",
     "output_type": "stream",
     "text": [
      "Please give the appropriate value. 1 for Fundamental Analysis, 2 for News, 3 for Technical Analysis & 4 for Share Price Forecast:1\n"
     ]
    }
   ],
   "source": [
    "query = int(input(\"Please give the appropriate value. 1 for Fundamental Analysis, 2 for News, 3 for Technical Analysis & 4 for Share Price Forecast:\"))"
   ]
  },
  {
   "cell_type": "code",
   "execution_count": 5,
   "metadata": {},
   "outputs": [
    {
     "name": "stdout",
     "output_type": "stream",
     "text": [
      "hdfc Fundamental Analysis:\n",
      " \n",
      "\thttps://www.tickertape.in/stocks/hdfc-bank-HDBK\n"
     ]
    }
   ],
   "source": [
    "if query == 1:\n",
    "    print (company_name+\" \"+\"Fundamental Analysis:\")\n",
    "    print (\" \")\n",
    "    for i in search(company_name,  tld='com', lang='en', num=1, start=0, stop=1, domains=['https://www.tickertape.in/'], pause=2.0):\n",
    "            \n",
    "            print (\"\\t\"+i)\n",
    "\n",
    "elif query == 2:\n",
    "        print (company_name+\" \"+\"News:\")\n",
    "        print (\" \")\n",
    "        for i in search(company_name+ 'News',  tld='com', lang='en', num=3, start=0, stop=3, pause=2.0, tpe='nws'):\n",
    "            \n",
    "            print (\"\\t\"+\"#\"+\" \"+Link_title(i))\n",
    "            print(\"\\t\"+i)\n",
    "            print(\" \")\n",
    "\n",
    "elif query == 3:\n",
    "        print (company_name+\" \"+\"Technical Analysis:\")\n",
    "        print (\" \")\n",
    "        for i in search(company_name+ 'Technical Analysis',  tld='com', lang='en', num=3, start=0, stop=3, pause=2.0):\n",
    "            \n",
    "            print (\"\\t\"+\"#\"+\" \"+Link_title(i))\n",
    "            print(\"\\t\"+i)\n",
    "            print(\" \")\n",
    "            \n",
    "else:\n",
    "    print (company_name+\" \"+\"Share Price Forecast:\")\n",
    "    print (\" \")\n",
    "    for i in search(company_name+ 'share price forecast',  tld='com', lang='en', num=3, start=0, stop=3, pause=2.0):\n",
    "        \n",
    "        print (\"\\t\"+\"#\"+\" \"+Link_title(i))\n",
    "        print(\"\\t\"+i)\n",
    "        print(\" \")"
   ]
  }
 ],
 "metadata": {
  "kernelspec": {
   "display_name": "Python 3",
   "language": "python",
   "name": "python3"
  },
  "language_info": {
   "codemirror_mode": {
    "name": "ipython",
    "version": 3
   },
   "file_extension": ".py",
   "mimetype": "text/x-python",
   "name": "python",
   "nbconvert_exporter": "python",
   "pygments_lexer": "ipython3",
   "version": "3.6.5"
  }
 },
 "nbformat": 4,
 "nbformat_minor": 2
}
